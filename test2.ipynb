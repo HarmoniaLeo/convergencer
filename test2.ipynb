{
 "cells": [
  {
   "cell_type": "code",
   "execution_count": 1,
   "source": [
    "from data import convergencerRegressionData\n",
    "\n",
    "data=convergencerRegressionData(\"/Users/harmonialeo/Downloads/train.csv\",\"/Users/harmonialeo/Downloads/test.csv\",\"SalePrice\",\"Id\")\n",
    "data.summary()"
   ],
   "outputs": [
    {
     "output_type": "stream",
     "name": "stdout",
     "text": [
      "Get data with 1460 rows and 80 cols. \n",
      "Get features with 1460 rows and 79 cols and labels with 1460 rows. \n",
      "Get data with 1459 rows and 79 cols. \n",
      "All columns:  Index(['MSSubClass', 'MSZoning', 'LotFrontage', 'LotArea', 'Street', 'Alley',\n",
      "       'LotShape', 'LandContour', 'Utilities', 'LotConfig', 'LandSlope',\n",
      "       'Neighborhood', 'Condition1', 'Condition2', 'BldgType', 'HouseStyle',\n",
      "       'OverallQual', 'OverallCond', 'YearBuilt', 'YearRemodAdd', 'RoofStyle',\n",
      "       'RoofMatl', 'Exterior1st', 'Exterior2nd', 'MasVnrType', 'MasVnrArea',\n",
      "       'ExterQual', 'ExterCond', 'Foundation', 'BsmtQual', 'BsmtCond',\n",
      "       'BsmtExposure', 'BsmtFinType1', 'BsmtFinSF1', 'BsmtFinType2',\n",
      "       'BsmtFinSF2', 'BsmtUnfSF', 'TotalBsmtSF', 'Heating', 'HeatingQC',\n",
      "       'CentralAir', 'Electrical', '1stFlrSF', '2ndFlrSF', 'LowQualFinSF',\n",
      "       'GrLivArea', 'BsmtFullBath', 'BsmtHalfBath', 'FullBath', 'HalfBath',\n",
      "       'BedroomAbvGr', 'KitchenAbvGr', 'KitchenQual', 'TotRmsAbvGrd',\n",
      "       'Functional', 'Fireplaces', 'FireplaceQu', 'GarageType', 'GarageYrBlt',\n",
      "       'GarageFinish', 'GarageCars', 'GarageArea', 'GarageQual', 'GarageCond',\n",
      "       'PavedDrive', 'WoodDeckSF', 'OpenPorchSF', 'EnclosedPorch', '3SsnPorch',\n",
      "       'ScreenPorch', 'PoolArea', 'PoolQC', 'Fence', 'MiscFeature', 'MiscVal',\n",
      "       'MoSold', 'YrSold', 'SaleType', 'SaleCondition'],\n",
      "      dtype='object')\n",
      "Categorical columns:  Index(['MSZoning', 'Street', 'Alley', 'LotShape', 'LandContour', 'Utilities',\n",
      "       'LotConfig', 'LandSlope', 'Neighborhood', 'Condition1', 'Condition2',\n",
      "       'BldgType', 'HouseStyle', 'RoofStyle', 'RoofMatl', 'Exterior1st',\n",
      "       'Exterior2nd', 'MasVnrType', 'ExterQual', 'ExterCond', 'Foundation',\n",
      "       'BsmtQual', 'BsmtCond', 'BsmtExposure', 'BsmtFinType1', 'BsmtFinType2',\n",
      "       'Heating', 'HeatingQC', 'CentralAir', 'Electrical', 'KitchenQual',\n",
      "       'Functional', 'FireplaceQu', 'GarageType', 'GarageFinish', 'GarageQual',\n",
      "       'GarageCond', 'PavedDrive', 'PoolQC', 'Fence', 'MiscFeature',\n",
      "       'SaleType', 'SaleCondition'],\n",
      "      dtype='object')\n",
      "Numerical columns:  Index(['MSSubClass', 'LotFrontage', 'LotArea', 'OverallQual', 'OverallCond',\n",
      "       'YearBuilt', 'YearRemodAdd', 'MasVnrArea', 'BsmtFinSF1', 'BsmtFinSF2',\n",
      "       'BsmtUnfSF', 'TotalBsmtSF', '1stFlrSF', '2ndFlrSF', 'LowQualFinSF',\n",
      "       'GrLivArea', 'BsmtFullBath', 'BsmtHalfBath', 'FullBath', 'HalfBath',\n",
      "       'BedroomAbvGr', 'KitchenAbvGr', 'TotRmsAbvGrd', 'Fireplaces',\n",
      "       'GarageYrBlt', 'GarageCars', 'GarageArea', 'WoodDeckSF', 'OpenPorchSF',\n",
      "       'EnclosedPorch', '3SsnPorch', 'ScreenPorch', 'PoolArea', 'MiscVal',\n",
      "       'MoSold', 'YrSold'],\n",
      "      dtype='object')\n",
      "Columns with nan values:  PoolQC          0.996574\n",
      "MiscFeature     0.964029\n",
      "Alley           0.932169\n",
      "Fence           0.804385\n",
      "FireplaceQu     0.486468\n",
      "LotFrontage     0.166495\n",
      "GarageCond      0.054471\n",
      "GarageQual      0.054471\n",
      "GarageYrBlt     0.054471\n",
      "GarageFinish    0.054471\n",
      "GarageType      0.053786\n",
      "BsmtCond        0.028092\n",
      "BsmtExposure    0.028092\n",
      "BsmtQual        0.027749\n",
      "BsmtFinType2    0.027407\n",
      "BsmtFinType1    0.027064\n",
      "MasVnrType      0.008222\n",
      "MasVnrArea      0.007879\n",
      "MSZoning        0.001370\n",
      "BsmtHalfBath    0.000685\n",
      "Utilities       0.000685\n",
      "Functional      0.000685\n",
      "BsmtFullBath    0.000685\n",
      "BsmtFinSF2      0.000343\n",
      "BsmtFinSF1      0.000343\n",
      "Exterior2nd     0.000343\n",
      "BsmtUnfSF       0.000343\n",
      "TotalBsmtSF     0.000343\n",
      "Exterior1st     0.000343\n",
      "SaleType        0.000343\n",
      "Electrical      0.000343\n",
      "KitchenQual     0.000343\n",
      "GarageArea      0.000343\n",
      "GarageCars      0.000343\n",
      "dtype: float64\n"
     ]
    }
   ],
   "metadata": {}
  },
  {
   "cell_type": "code",
   "execution_count": 2,
   "source": [
    "fillNaStrategy={\"MSZoning\":\"mode\",\"KitchenQual\":\"mode\",\"Functional\":\"mode\",\"SaleType\":\"mode\"}\n",
    "\n",
    "fillNaValue={\"LotFrontage\":0,\"Alley\":\"NA\",\"MasVnrType\":\"None\",\"MasVnrArea\":0,\"BsmtQual\":\"NA\",\"BsmtCond\":\"NA\",\"BsmtExposure\":\"NA\",\n",
    "\"BsmtFinType1\":\"NA\",\"BsmtFinSF1\":0,\"BsmtFinType2\":\"NA\",\"BsmtFinSF2\":0,\"BsmtFullBath\":0,\"BsmtHalfBath\":0,\"FireplaceQu\":\"NA\",\"GarageType\":\"NA\",\"GarageFinish\":\"NA\",\"GarageCars\":0,\n",
    "\"GarageArea\":0,\"GarageQual\":\"NA\",\"GarageCond\":\"NA\",\"PoolQC\":\"NA\",\"Fence\":\"NA\",\"MiscFeature\":\"NA\"}\n",
    "\n",
    "knnCols={\"Utilities\":[\"MSSubClass\",\"MSZoning\",\"Neighborhood\",\"YearBuilt\",\"YearRemodAdd\"],\"Exterior1st\":[\"MSSubClass\",\"MSZoning\",\"YearBuilt\"],\"Exterior2nd\":[\"MSSubClass\",\"MSZoning\",\"YearBuilt\"],\n",
    "\"Electrical\":[\"MSSubClass\",\"MSZoning\",\"Neighborhood\",\"YearBuilt\",\"YearRemodAdd\"]}\n",
    "\n",
    "dropNaCols=[\"TotalBsmtSF\",\"BsmtUnfSF\",\"GarageYrBlt\"]\n",
    "\n",
    "categoryCols=[\"MSSubClass\"]\n",
    "\n",
    "def func(train_test):\n",
    "    train_test[\"SqFtPerRoom\"] = train_test[\"GrLivArea\"] / (train_test[\"TotRmsAbvGrd\"] +\n",
    "                                                       train_test[\"FullBath\"] +\n",
    "                                                       train_test[\"HalfBath\"] +\n",
    "                                                       train_test[\"KitchenAbvGr\"])\n",
    "\n",
    "    train_test['Total_Home_Quality'] = train_test['OverallQual'] + train_test['OverallCond']\n",
    "\n",
    "    train_test['Total_Bathrooms'] = (train_test['FullBath'] + (0.5 * train_test['HalfBath']) +\n",
    "                                train_test['BsmtFullBath'] + (0.5 * train_test['BsmtHalfBath']))\n",
    "\n",
    "    train_test[\"HighQualSF\"] = train_test[\"1stFlrSF\"] + train_test[\"2ndFlrSF\"]\n",
    "    return train_test\n",
    "    \n",
    "numCols={\"ExterQual\":{\"Ex\":4,\"Gd\":3,\"TA\":2,\"Fa\":1,\"Po\":0},\"ExterCond\":{\"Ex\":4,\"Gd\":3,\"TA\":2,\"Fa\":1,\"Po\":0},\"BsmtQual\":{\"Ex\":5,\"Gd\":4,\"TA\":3,\"Fa\":2,\"Po\":1,\"NA\":0},\n",
    "\"BsmtCond\":{\"Ex\":5,\"Gd\":4,\"TA\":3,\"Fa\":2,\"Po\":1,\"NA\":0},\"BsmtExposure\":{\"Gd\":3,\"Av\":2,\"Mn\":1,\"No\":0,\"NA\":0},\"BsmtFinType1\":{\"GLQ\":6,\"ALQ\":5,\"BLQ\":4,\"Rec\":3,\"LwQ\":2,\"Unf\":1,\"NA\":0},\n",
    "\"BsmtFinType2\":{\"GLQ\":6,\"ALQ\":5,\"BLQ\":4,\"Rec\":3,\"LwQ\":2,\"Unf\":1,\"NA\":0},\"HeatingQC\":{\"Ex\":4,\"Gd\":3,\"TA\":2,\"Fa\":1,\"Po\":0},\"FireplaceQu\":{\"Ex\":5,\"Gd\":4,\"TA\":3,\"Fa\":2,\"Po\":1,\"NA\":0},\n",
    "\"GarageFinish\":{\"Fin\":3,\"RFn\":2,\"Unf\":1,\"NA\":0},\"GarageQual\":{\"Ex\":5,\"Gd\":4,\"TA\":3,\"Fa\":2,\"Po\":1,\"NA\":0},\"GarageCond\":{\"Ex\":5,\"Gd\":4,\"TA\":3,\"Fa\":2,\"Po\":1,\"NA\":0},\n",
    "\"PoolQC\":{\"Ex\":4,\"Gd\":3,\"TA\":2,\"Fa\":1,\"NA\":0},\"KitchenQual\":{\"Ex\":4,\"Gd\":3,\"TA\":2,\"Fa\":1,\"Po\":0}}\n"
   ],
   "outputs": [],
   "metadata": {}
  },
  {
   "cell_type": "code",
   "execution_count": 3,
   "source": [
    "data.preprocess(processors=[\"naColFilter\",\"fillNa\",\"custom\",\"normalization\",\"normalizeFilter\",\"catToNum\",\"numToCat\",\"catToNum\"],\n",
    "params={\"naColFilter\":{\"cols\":dropNaCols,\"threshold\":0.0},\n",
    "\"fillNa\":{\"strategy\":fillNaStrategy,\"values\":fillNaValue,\"knn cols\":knnCols},\n",
    "\"custom\":{\"function\":func},\n",
    "\"numToCat\":{\"cols\":categoryCols},\n",
    "\"catToNum\":{\"orders\":numCols}\n",
    "})"
   ],
   "outputs": [
    {
     "output_type": "stream",
     "name": "stdout",
     "text": [
      "\n",
      "-------------------------Selcecting features with naColFilter-------------------------\n",
      "Drop 3 cols since they high rate of nan values:  Index(['GarageYrBlt', 'BsmtUnfSF', 'TotalBsmtSF'], dtype='object')\n",
      "\n",
      "-------------------------Try to fill nan values-------------------------\n",
      "Fill 4 nans in col MSZoning with mode RL\n",
      "Fill 486 nans in col LotFrontage with 0\n",
      "Fill 2721 nans in col Alley with NA\n",
      "Fill 24 nans in col MasVnrType with None\n",
      "Fill 23 nans in col MasVnrArea with 0\n",
      "Fill 81 nans in col BsmtQual with NA\n",
      "Fill 82 nans in col BsmtCond with NA\n",
      "Fill 82 nans in col BsmtExposure with NA\n",
      "Fill 79 nans in col BsmtFinType1 with NA\n",
      "Fill 1 nans in col BsmtFinSF1 with 0\n",
      "Fill 80 nans in col BsmtFinType2 with NA\n",
      "Fill 1 nans in col BsmtFinSF2 with 0\n",
      "Fill 2 nans in col BsmtFullBath with 0\n",
      "Fill 2 nans in col BsmtHalfBath with 0\n",
      "Fill 1 nans in col KitchenQual with mode TA\n",
      "Fill 2 nans in col Functional with mode Typ\n",
      "Fill 1420 nans in col FireplaceQu with NA\n",
      "Fill 157 nans in col GarageType with NA\n",
      "Fill 159 nans in col GarageFinish with NA\n",
      "Fill 1 nans in col GarageCars with 0\n",
      "Fill 1 nans in col GarageArea with 0\n",
      "Fill 159 nans in col GarageQual with NA\n",
      "Fill 159 nans in col GarageCond with NA\n",
      "Fill 2909 nans in col PoolQC with NA\n",
      "Fill 2348 nans in col Fence with NA\n",
      "Fill 2814 nans in col MiscFeature with NA\n",
      "Fill 1 nans in col SaleType with mode WD\n",
      "Fill 2 nans in col Utilities with default 5-nn strategy. \n",
      "Fill 1 nans in col Exterior1st with default 5-nn strategy. \n",
      "Fill 1 nans in col Exterior2nd with default 5-nn strategy. \n",
      "Fill 1 nans in col Electrical with default 5-nn strategy. \n",
      "\n",
      "-------------------------Using custom fuction to transform data-------------------------\n",
      "\n",
      "-------------------------Encoding categorical data to specific numbers-------------------------\n",
      "Ex in col ExterQual has been set to 4\n",
      "Gd in col ExterQual has been set to 3\n",
      "TA in col ExterQual has been set to 2\n",
      "Fa in col ExterQual has been set to 1\n",
      "Po in col ExterQual has been set to 0\n",
      "Ex in col ExterCond has been set to 4\n",
      "Gd in col ExterCond has been set to 3\n",
      "TA in col ExterCond has been set to 2\n",
      "Fa in col ExterCond has been set to 1\n",
      "Po in col ExterCond has been set to 0\n",
      "Ex in col BsmtQual has been set to 5\n",
      "Gd in col BsmtQual has been set to 4\n",
      "TA in col BsmtQual has been set to 3\n",
      "Fa in col BsmtQual has been set to 2\n",
      "Po in col BsmtQual has been set to 1\n",
      "NA in col BsmtQual has been set to 0\n",
      "Ex in col BsmtCond has been set to 5\n",
      "Gd in col BsmtCond has been set to 4\n",
      "TA in col BsmtCond has been set to 3\n",
      "Fa in col BsmtCond has been set to 2\n",
      "Po in col BsmtCond has been set to 1\n",
      "NA in col BsmtCond has been set to 0\n",
      "Gd in col BsmtExposure has been set to 3\n",
      "Av in col BsmtExposure has been set to 2\n",
      "Mn in col BsmtExposure has been set to 1\n",
      "No in col BsmtExposure has been set to 0\n",
      "NA in col BsmtExposure has been set to 0\n",
      "GLQ in col BsmtFinType1 has been set to 6\n",
      "ALQ in col BsmtFinType1 has been set to 5\n",
      "BLQ in col BsmtFinType1 has been set to 4\n",
      "Rec in col BsmtFinType1 has been set to 3\n",
      "LwQ in col BsmtFinType1 has been set to 2\n",
      "Unf in col BsmtFinType1 has been set to 1\n",
      "NA in col BsmtFinType1 has been set to 0\n",
      "GLQ in col BsmtFinType2 has been set to 6\n",
      "ALQ in col BsmtFinType2 has been set to 5\n",
      "BLQ in col BsmtFinType2 has been set to 4\n",
      "Rec in col BsmtFinType2 has been set to 3\n",
      "LwQ in col BsmtFinType2 has been set to 2\n",
      "Unf in col BsmtFinType2 has been set to 1\n",
      "NA in col BsmtFinType2 has been set to 0\n",
      "Ex in col HeatingQC has been set to 4\n",
      "Gd in col HeatingQC has been set to 3\n",
      "TA in col HeatingQC has been set to 2\n",
      "Fa in col HeatingQC has been set to 1\n",
      "Po in col HeatingQC has been set to 0\n",
      "Ex in col FireplaceQu has been set to 5\n",
      "Gd in col FireplaceQu has been set to 4\n",
      "TA in col FireplaceQu has been set to 3\n",
      "Fa in col FireplaceQu has been set to 2\n",
      "Po in col FireplaceQu has been set to 1\n",
      "NA in col FireplaceQu has been set to 0\n",
      "Fin in col GarageFinish has been set to 3\n",
      "RFn in col GarageFinish has been set to 2\n",
      "Unf in col GarageFinish has been set to 1\n",
      "NA in col GarageFinish has been set to 0\n",
      "Ex in col GarageQual has been set to 5\n",
      "Gd in col GarageQual has been set to 4\n",
      "TA in col GarageQual has been set to 3\n",
      "Fa in col GarageQual has been set to 2\n",
      "Po in col GarageQual has been set to 1\n",
      "NA in col GarageQual has been set to 0\n",
      "Ex in col GarageCond has been set to 5\n",
      "Gd in col GarageCond has been set to 4\n",
      "TA in col GarageCond has been set to 3\n",
      "Fa in col GarageCond has been set to 2\n",
      "Po in col GarageCond has been set to 1\n",
      "NA in col GarageCond has been set to 0\n",
      "Ex in col PoolQC has been set to 4\n",
      "Gd in col PoolQC has been set to 3\n",
      "TA in col PoolQC has been set to 2\n",
      "Fa in col PoolQC has been set to 1\n",
      "NA in col PoolQC has been set to 0\n",
      "Ex in col KitchenQual has been set to 4\n",
      "Gd in col KitchenQual has been set to 3\n",
      "TA in col KitchenQual has been set to 2\n",
      "Fa in col KitchenQual has been set to 1\n",
      "Po in col KitchenQual has been set to 0\n",
      "\n",
      "-------------------------Encoding specific numerical cols to categorical cols-------------------------\n",
      "MSSubClass has been set to category col. \n"
     ]
    },
    {
     "output_type": "stream",
     "name": "stderr",
     "text": [
      "/Users/harmonialeo/opt/anaconda3/lib/python3.8/site-packages/numpy/core/_methods.py:205: RuntimeWarning: overflow encountered in multiply\n",
      "  x = um.multiply(x, x, out=x)\n",
      "/Users/harmonialeo/opt/anaconda3/lib/python3.8/site-packages/scipy/optimize/optimize.py:2116: RuntimeWarning: invalid value encountered in double_scalars\n",
      "  tmp2 = (x - v) * (fx - fw)\n",
      "/Users/harmonialeo/opt/anaconda3/lib/python3.8/site-packages/scipy/stats/morestats.py:908: RuntimeWarning: divide by zero encountered in log\n",
      "  return (lmb - 1) * np.sum(logdata, axis=0) - N/2 * np.log(variance)\n",
      "/Users/harmonialeo/opt/anaconda3/lib/python3.8/site-packages/scipy/optimize/optimize.py:2115: RuntimeWarning: invalid value encountered in double_scalars\n",
      "  tmp1 = (x - w) * (fx - fv)\n"
     ]
    },
    {
     "output_type": "stream",
     "name": "stdout",
     "text": [
      "\n",
      "-------------------------Try to normalize cols-------------------------\n",
      "Try to normalize col:  1stFlrSF\n",
      "Skew is -0.0009113724603088824 now. \n",
      "Try to normalize col:  GrLivArea\n",
      "Skew is -0.0002833781076652133 now. \n",
      "Try to normalize col:  SqFtPerRoom\n",
      "Skew is -0.007871018926222065 now. \n",
      "Try to normalize col:  HighQualSF\n",
      "Skew is -2.729090677315011e-05 now. \n",
      "Try to normalize label\n",
      "Skew is -0.008653727908094083 now. \n",
      "\n",
      "-------------------------Try to filter data with normal distribution-------------------------\n",
      "Scanning cols:  ['1stFlrSF', 'GrLivArea', 'SqFtPerRoom', 'HighQualSF']\n",
      "The means are: \n",
      " 1stFlrSF       5.656018\n",
      "GrLivArea      6.946958\n",
      "SqFtPerRoom    2.438321\n",
      "HighQualSF     7.231288\n",
      "dtype: float64\n",
      "The standard deviations are: \n",
      " 1stFlrSF       0.203419\n",
      "GrLivArea      0.304319\n",
      "SqFtPerRoom    0.031737\n",
      "HighQualSF     0.330554\n",
      "dtype: float64\n",
      "Dropped rows:  (array([  29,  125,  197,  496,  523,  528,  533,  691,  705,  916, 1100,\n",
      "       1182, 1298]),)\n"
     ]
    }
   ],
   "metadata": {}
  },
  {
   "cell_type": "code",
   "execution_count": 4,
   "source": [
    "models=[]"
   ],
   "outputs": [],
   "metadata": {}
  },
  {
   "cell_type": "code",
   "execution_count": 5,
   "source": [
    "from models import linear,ridge,lasso,elasticNet,SVMRegression,dtRegression,rfRegression,gbRegression,xgbRegression,lgbmRegression,lgbmRegression_goss,catBoostRegression,baggingRegression\n",
    "\n",
    "models=[]\n",
    "models.append(linear(data.getXtrain(),data.gety(),metric=\"r2\",maxEpoch=50,parameters={}))\n",
    "models.append(ridge(data.getXtrain(),data.gety(),metric=\"r2\",maxEpoch=50,parameters={}))\n",
    "models.append(lasso(data.getXtrain(),data.gety(),metric=\"r2\",maxEpoch=50,parameters={}))\n",
    "models.append(elasticNet(data.getXtrain(),data.gety(),metric=\"r2\",maxEpoch=50,parameters={}))\n",
    "models.append(SVMRegression(data.getXtrain(),data.gety(),metric=\"r2\",maxEpoch=50,parameters={}))\n",
    "models.append(dtRegression(data.getXtrain(),data.gety(),metric=\"r2\",maxEpoch=150,parameters={}))\n",
    "models.append(rfRegression(data.getXtrain(),data.gety(),metric=\"r2\",maxEpoch=150,parameters={}))\n",
    "models.append(gbRegression(data.getXtrain(),data.gety(),metric=\"r2\",maxEpoch=150,parameters={}))\n",
    "models.append(xgbRegression(data.getXtrain(),data.gety(),metric=\"r2\",maxEpoch=150,parameters={}))\n",
    "models.append(lgbmRegression(data.getXtrain(),data.gety(),metric=\"r2\",maxEpoch=150,parameters={}))\n",
    "models.append(lgbmRegression_goss(data.getXtrain(),data.gety(),metric=\"r2\",maxEpoch=150,parameters={}))\n",
    "models.append(catBoostRegression(data.getXtrain(),data.gety(),metric=\"r2\",maxEpoch=150,parameters={}))"
   ],
   "outputs": [
    {
     "output_type": "stream",
     "name": "stderr",
     "text": [
      "0it [00:00, ?it/s]"
     ]
    },
    {
     "output_type": "stream",
     "name": "stdout",
     "text": [
      "\n",
      "-------------------------Model: linear initialized-------------------------\n",
      "\n",
      "Model: linear\n",
      "Score on train set: 0.9246269351210781 Score on test set: 0.9113464652061086\n",
      "Parameters:  {}\n"
     ]
    },
    {
     "output_type": "stream",
     "name": "stderr",
     "text": [
      "\n",
      "  0%|          | 0/50 [00:00<?, ?it/s]"
     ]
    },
    {
     "output_type": "stream",
     "name": "stdout",
     "text": [
      "\n",
      "-------------------------Model: ridge initialized-------------------------\n"
     ]
    },
    {
     "output_type": "stream",
     "name": "stderr",
     "text": [
      "100%|██████████| 50/50 [00:08<00:00,  5.64it/s]\n"
     ]
    },
    {
     "output_type": "stream",
     "name": "stdout",
     "text": [
      "\n",
      "Model: ridge\n",
      "Score on train set: 0.9232526173545592 Score on test set: 0.9117803349936804\n",
      "Parameters:  {'alpha': 0.3198608159023652}\n",
      "\n",
      "-------------------------Model: lasso initialized-------------------------\n"
     ]
    },
    {
     "output_type": "stream",
     "name": "stderr",
     "text": [
      "100%|██████████| 50/50 [00:08<00:00,  5.65it/s]\n"
     ]
    },
    {
     "output_type": "stream",
     "name": "stdout",
     "text": [
      "\n",
      "Model: lasso\n",
      "Score on train set: 0.8576230353008558 Score on test set: 0.8500910372233443\n",
      "Parameters:  {'alpha': 0.0101035901279396}\n"
     ]
    },
    {
     "output_type": "stream",
     "name": "stderr",
     "text": [
      "  0%|          | 0/50 [00:00<?, ?it/s]"
     ]
    },
    {
     "output_type": "stream",
     "name": "stdout",
     "text": [
      "\n",
      "-------------------------Model: elasticNet initialized-------------------------\n"
     ]
    },
    {
     "output_type": "stream",
     "name": "stderr",
     "text": [
      "100%|██████████| 50/50 [00:09<00:00,  5.15it/s]\n"
     ]
    },
    {
     "output_type": "stream",
     "name": "stdout",
     "text": [
      "\n",
      "Model: elasticNet\n",
      "Score on train set: 0.8924492859947837 Score on test set: 0.8840291624103326\n",
      "Parameters:  {'alpha': 0.01, 'l1Rate': 0.1}\n",
      "\n",
      "-------------------------Model: SVMRegression initialized-------------------------\n"
     ]
    },
    {
     "output_type": "stream",
     "name": "stderr",
     "text": [
      "100%|██████████| 50/50 [00:29<00:00,  1.69it/s]\n"
     ]
    },
    {
     "output_type": "stream",
     "name": "stdout",
     "text": [
      "\n",
      "Model: SVMRegression\n",
      "Score on train set: 0.8706463233025932 Score on test set: 0.8502439956742653\n",
      "Parameters:  {'C': 1.4456227988374046}\n",
      "\n",
      "-------------------------Model: dtRegression initialized-------------------------\n"
     ]
    },
    {
     "output_type": "stream",
     "name": "stderr",
     "text": [
      "100%|██████████| 150/150 [00:42<00:00,  3.50it/s]\n"
     ]
    },
    {
     "output_type": "stream",
     "name": "stdout",
     "text": [
      "\n",
      "Model: dtRegression\n",
      "Score on train set: 0.9124646671333879 Score on test set: 0.7803610201864078\n",
      "Parameters:  {'max_depth': 172, 'max_features': 0.5095017311392547, 'min_samples_split': 0.0189047560099228}\n",
      "\n",
      "-------------------------Model: xgbRegression initialized-------------------------\n"
     ]
    },
    {
     "output_type": "stream",
     "name": "stderr",
     "text": [
      "100%|██████████| 150/150 [12:21<00:00,  4.94s/it]\n"
     ]
    },
    {
     "output_type": "stream",
     "name": "stdout",
     "text": [
      "\n",
      "Model: xgbRegression\n",
      "Score on train set: 0.975239262609883 Score on test set: 0.9058818947852597\n",
      "Parameters:  {'colsample_bylevel': 0.6174938880784788, 'colsample_bytree': 0.6342613441988751, 'early_stopping_round': 0.0868015263311916, 'eta': 0.1090102399179046, 'max_depth': 16, 'min_child_weight': 23.99114709768255, 'num_boost_round': 305, 'subsample': 0.8297670779008386}\n",
      "\n",
      "-------------------------Model: bagging initialized-------------------------\n"
     ]
    },
    {
     "output_type": "stream",
     "name": "stderr",
     "text": [
      "  1%|          | 4/500 [01:01<2:07:34, 15.43s/it]\n"
     ]
    },
    {
     "output_type": "error",
     "ename": "KeyboardInterrupt",
     "evalue": "",
     "traceback": [
      "\u001b[0;31m---------------------------------------------------------------------------\u001b[0m",
      "\u001b[0;31mKeyboardInterrupt\u001b[0m                         Traceback (most recent call last)",
      "\u001b[0;32m<ipython-input-5-102a4a368d0a>\u001b[0m in \u001b[0;36m<module>\u001b[0;34m\u001b[0m\n\u001b[1;32m     14\u001b[0m \u001b[0;31m#models.append(lgbmRegression_goss(data.getXtrain(),data.gety(),metric=\"r2\",maxEpoch=150,parameters={}))\u001b[0m\u001b[0;34m\u001b[0m\u001b[0;34m\u001b[0m\u001b[0;34m\u001b[0m\u001b[0m\n\u001b[1;32m     15\u001b[0m \u001b[0;31m#models.append(catBoostRegression(data.getXtrain(),data.gety(),metric=\"r2\",maxEpoch=150,parameters={}))\u001b[0m\u001b[0;34m\u001b[0m\u001b[0;34m\u001b[0m\u001b[0;34m\u001b[0m\u001b[0m\n\u001b[0;32m---> 16\u001b[0;31m \u001b[0mbaggingModel\u001b[0m\u001b[0;34m=\u001b[0m\u001b[0mbaggingRegression\u001b[0m\u001b[0;34m(\u001b[0m\u001b[0mdata\u001b[0m\u001b[0;34m.\u001b[0m\u001b[0mgetXtrain\u001b[0m\u001b[0;34m(\u001b[0m\u001b[0;34m)\u001b[0m\u001b[0;34m,\u001b[0m\u001b[0mdata\u001b[0m\u001b[0;34m.\u001b[0m\u001b[0mgety\u001b[0m\u001b[0;34m(\u001b[0m\u001b[0;34m)\u001b[0m\u001b[0;34m,\u001b[0m\u001b[0mmodels\u001b[0m\u001b[0;34m,\u001b[0m\u001b[0mmetric\u001b[0m\u001b[0;34m=\u001b[0m\u001b[0;34m\"r2\"\u001b[0m\u001b[0;34m,\u001b[0m\u001b[0mmaxEpoch\u001b[0m\u001b[0;34m=\u001b[0m\u001b[0;36m500\u001b[0m\u001b[0;34m,\u001b[0m\u001b[0mparameters\u001b[0m\u001b[0;34m=\u001b[0m\u001b[0;34m{\u001b[0m\u001b[0;34m}\u001b[0m\u001b[0;34m)\u001b[0m\u001b[0;34m\u001b[0m\u001b[0;34m\u001b[0m\u001b[0m\n\u001b[0m",
      "\u001b[0;32m~/Documents/source/convergencer/models/bagging.py\u001b[0m in \u001b[0;36m__init__\u001b[0;34m(self, X, y, models, parameters, metric, maxEpoch, modelLoadPath, modelSavePath, modelSaveFreq, historyLoadPath, historySavePath, historySaveFreq, verbose)\u001b[0m\n\u001b[1;32m     24\u001b[0m     \u001b[0;32mdef\u001b[0m \u001b[0m__init__\u001b[0m\u001b[0;34m(\u001b[0m\u001b[0mself\u001b[0m\u001b[0;34m,\u001b[0m\u001b[0mX\u001b[0m\u001b[0;34m,\u001b[0m\u001b[0my\u001b[0m\u001b[0;34m,\u001b[0m\u001b[0mmodels\u001b[0m\u001b[0;34m=\u001b[0m\u001b[0;34m[\u001b[0m\u001b[0;34m]\u001b[0m\u001b[0;34m,\u001b[0m\u001b[0mparameters\u001b[0m\u001b[0;34m=\u001b[0m\u001b[0;34m{\u001b[0m\u001b[0;34m}\u001b[0m\u001b[0;34m,\u001b[0m\u001b[0mmetric\u001b[0m\u001b[0;34m=\u001b[0m\u001b[0;34m\"r2\"\u001b[0m\u001b[0;34m,\u001b[0m\u001b[0mmaxEpoch\u001b[0m\u001b[0;34m=\u001b[0m\u001b[0;36m1000\u001b[0m\u001b[0;34m,\u001b[0m\u001b[0mmodelLoadPath\u001b[0m\u001b[0;34m=\u001b[0m\u001b[0;32mNone\u001b[0m\u001b[0;34m,\u001b[0m\u001b[0mmodelSavePath\u001b[0m\u001b[0;34m=\u001b[0m\u001b[0;32mNone\u001b[0m\u001b[0;34m,\u001b[0m\u001b[0mmodelSaveFreq\u001b[0m\u001b[0;34m=\u001b[0m\u001b[0;36m50\u001b[0m\u001b[0;34m,\u001b[0m\u001b[0mhistoryLoadPath\u001b[0m\u001b[0;34m=\u001b[0m\u001b[0;32mNone\u001b[0m\u001b[0;34m,\u001b[0m\u001b[0mhistorySavePath\u001b[0m\u001b[0;34m=\u001b[0m\u001b[0;32mNone\u001b[0m\u001b[0;34m,\u001b[0m\u001b[0mhistorySaveFreq\u001b[0m\u001b[0;34m=\u001b[0m\u001b[0;36m50\u001b[0m\u001b[0;34m,\u001b[0m\u001b[0mverbose\u001b[0m\u001b[0;34m=\u001b[0m\u001b[0;36m1\u001b[0m\u001b[0;34m)\u001b[0m\u001b[0;34m:\u001b[0m\u001b[0;34m\u001b[0m\u001b[0;34m\u001b[0m\u001b[0m\n\u001b[1;32m     25\u001b[0m         \u001b[0mself\u001b[0m\u001b[0;34m.\u001b[0m\u001b[0mbaggingModels\u001b[0m\u001b[0;34m=\u001b[0m\u001b[0mmodels\u001b[0m\u001b[0;34m\u001b[0m\u001b[0;34m\u001b[0m\u001b[0m\n\u001b[0;32m---> 26\u001b[0;31m         \u001b[0msuper\u001b[0m\u001b[0;34m(\u001b[0m\u001b[0;34m)\u001b[0m\u001b[0;34m.\u001b[0m\u001b[0m__init__\u001b[0m\u001b[0;34m(\u001b[0m\u001b[0mX\u001b[0m\u001b[0;34m=\u001b[0m\u001b[0mX\u001b[0m\u001b[0;34m,\u001b[0m \u001b[0my\u001b[0m\u001b[0;34m=\u001b[0m\u001b[0my\u001b[0m\u001b[0;34m,\u001b[0m \u001b[0mparameters\u001b[0m\u001b[0;34m=\u001b[0m\u001b[0mparameters\u001b[0m\u001b[0;34m,\u001b[0m \u001b[0mmetric\u001b[0m\u001b[0;34m=\u001b[0m\u001b[0mmetric\u001b[0m\u001b[0;34m,\u001b[0m \u001b[0mmaxEpoch\u001b[0m\u001b[0;34m=\u001b[0m\u001b[0mmaxEpoch\u001b[0m\u001b[0;34m,\u001b[0m\u001b[0mmodelLoadPath\u001b[0m\u001b[0;34m=\u001b[0m\u001b[0mmodelLoadPath\u001b[0m\u001b[0;34m,\u001b[0m\u001b[0mmodelSavePath\u001b[0m\u001b[0;34m=\u001b[0m\u001b[0mmodelSavePath\u001b[0m\u001b[0;34m,\u001b[0m\u001b[0mmodelSaveFreq\u001b[0m\u001b[0;34m=\u001b[0m\u001b[0mmodelSaveFreq\u001b[0m\u001b[0;34m,\u001b[0m\u001b[0mhistoryLoadPath\u001b[0m\u001b[0;34m=\u001b[0m\u001b[0mhistoryLoadPath\u001b[0m\u001b[0;34m,\u001b[0m\u001b[0mhistorySavePath\u001b[0m\u001b[0;34m=\u001b[0m\u001b[0mhistorySavePath\u001b[0m\u001b[0;34m,\u001b[0m\u001b[0mhistorySaveFreq\u001b[0m\u001b[0;34m=\u001b[0m\u001b[0mhistorySaveFreq\u001b[0m\u001b[0;34m,\u001b[0m\u001b[0mverbose\u001b[0m\u001b[0;34m=\u001b[0m\u001b[0;36m1\u001b[0m\u001b[0;34m)\u001b[0m\u001b[0;34m\u001b[0m\u001b[0;34m\u001b[0m\u001b[0m\n\u001b[0m\u001b[1;32m     27\u001b[0m \u001b[0;34m\u001b[0m\u001b[0m\n\u001b[1;32m     28\u001b[0m     \u001b[0;32mdef\u001b[0m \u001b[0minitParameter\u001b[0m\u001b[0;34m(\u001b[0m\u001b[0mself\u001b[0m\u001b[0;34m,\u001b[0m \u001b[0mX\u001b[0m\u001b[0;34m,\u001b[0m \u001b[0my\u001b[0m\u001b[0;34m,\u001b[0m \u001b[0mparameters\u001b[0m\u001b[0;34m)\u001b[0m\u001b[0;34m:\u001b[0m\u001b[0;34m\u001b[0m\u001b[0;34m\u001b[0m\u001b[0m\n",
      "\u001b[0;32m~/Documents/source/convergencer/models/base.py\u001b[0m in \u001b[0;36m__init__\u001b[0;34m(self, X, y, parameters, metric, maxEpoch, modelLoadPath, modelSavePath, modelSaveFreq, historyLoadPath, historySavePath, historySaveFreq, verbose)\u001b[0m\n\u001b[1;32m     46\u001b[0m                     \u001b[0mprint\u001b[0m\u001b[0;34m(\u001b[0m\u001b[0;34m\"Model: \"\u001b[0m\u001b[0;34m+\u001b[0m\u001b[0mstr\u001b[0m\u001b[0;34m(\u001b[0m\u001b[0mself\u001b[0m\u001b[0;34m)\u001b[0m\u001b[0;34m+\u001b[0m\u001b[0;34m\" Epoch {0} \"\u001b[0m\u001b[0;34m.\u001b[0m\u001b[0mformat\u001b[0m\u001b[0;34m(\u001b[0m\u001b[0mi\u001b[0m\u001b[0;34m)\u001b[0m\u001b[0;34m)\u001b[0m\u001b[0;34m\u001b[0m\u001b[0;34m\u001b[0m\u001b[0m\n\u001b[1;32m     47\u001b[0m                     \u001b[0mprint\u001b[0m\u001b[0;34m(\u001b[0m\u001b[0;34m\"Parameters: \"\u001b[0m\u001b[0;34m,\u001b[0m\u001b[0mnext_point_to_probe\u001b[0m\u001b[0;34m)\u001b[0m\u001b[0;34m\u001b[0m\u001b[0;34m\u001b[0m\u001b[0m\n\u001b[0;32m---> 48\u001b[0;31m                 \u001b[0mmodel\u001b[0m\u001b[0;34m,\u001b[0m\u001b[0mtrainAcc\u001b[0m\u001b[0;34m,\u001b[0m\u001b[0mtestAcc\u001b[0m\u001b[0;34m=\u001b[0m\u001b[0mself\u001b[0m\u001b[0;34m.\u001b[0m\u001b[0mtrainModel\u001b[0m\u001b[0;34m(\u001b[0m\u001b[0mX\u001b[0m\u001b[0;34m,\u001b[0m\u001b[0my\u001b[0m\u001b[0;34m,\u001b[0m\u001b[0mnext_point_to_probe\u001b[0m\u001b[0;34m,\u001b[0m\u001b[0mmetric\u001b[0m\u001b[0;34m)\u001b[0m\u001b[0;34m\u001b[0m\u001b[0;34m\u001b[0m\u001b[0m\n\u001b[0m\u001b[1;32m     49\u001b[0m                 \u001b[0;32mif\u001b[0m \u001b[0;34m(\u001b[0m\u001b[0;34m(\u001b[0m\u001b[0mtestAcc\u001b[0m\u001b[0;34m>\u001b[0m\u001b[0mself\u001b[0m\u001b[0;34m.\u001b[0m\u001b[0mtestAcc\u001b[0m\u001b[0;34m)\u001b[0m \u001b[0;32mif\u001b[0m \u001b[0mmaximum\u001b[0m \u001b[0;32melse\u001b[0m \u001b[0;34m(\u001b[0m\u001b[0mtestAcc\u001b[0m\u001b[0;34m<\u001b[0m\u001b[0mself\u001b[0m\u001b[0;34m.\u001b[0m\u001b[0mtestAcc\u001b[0m\u001b[0;34m)\u001b[0m\u001b[0;34m)\u001b[0m\u001b[0;34m:\u001b[0m\u001b[0;34m\u001b[0m\u001b[0;34m\u001b[0m\u001b[0m\n\u001b[1;32m     50\u001b[0m                     \u001b[0mself\u001b[0m\u001b[0;34m.\u001b[0m\u001b[0mmodel\u001b[0m\u001b[0;34m=\u001b[0m\u001b[0mmodel\u001b[0m\u001b[0;34m\u001b[0m\u001b[0;34m\u001b[0m\u001b[0m\n",
      "\u001b[0;32m~/Documents/source/convergencer/models/base.py\u001b[0m in \u001b[0;36mtrainModel\u001b[0;34m(self, X, y, parameters, metric)\u001b[0m\n\u001b[1;32m    142\u001b[0m             \u001b[0mmodel\u001b[0m\u001b[0;34m=\u001b[0m\u001b[0mself\u001b[0m\u001b[0;34m.\u001b[0m\u001b[0mfitModel\u001b[0m\u001b[0;34m(\u001b[0m\u001b[0mX_train\u001b[0m\u001b[0;34m,\u001b[0m\u001b[0my_train\u001b[0m\u001b[0;34m,\u001b[0m\u001b[0mX_test\u001b[0m\u001b[0;34m,\u001b[0m\u001b[0my_test\u001b[0m\u001b[0;34m,\u001b[0m\u001b[0mmodel\u001b[0m\u001b[0;34m,\u001b[0m\u001b[0mparameters\u001b[0m\u001b[0;34m,\u001b[0m\u001b[0mmetric\u001b[0m\u001b[0;34m)\u001b[0m\u001b[0;34m\u001b[0m\u001b[0;34m\u001b[0m\u001b[0m\n\u001b[1;32m    143\u001b[0m             \u001b[0my_train_pred\u001b[0m\u001b[0;34m=\u001b[0m\u001b[0mself\u001b[0m\u001b[0;34m.\u001b[0m\u001b[0mmodelPredict\u001b[0m\u001b[0;34m(\u001b[0m\u001b[0mmodel\u001b[0m\u001b[0;34m,\u001b[0m\u001b[0mX_train\u001b[0m\u001b[0;34m)\u001b[0m\u001b[0;34m\u001b[0m\u001b[0;34m\u001b[0m\u001b[0m\n\u001b[0;32m--> 144\u001b[0;31m             \u001b[0my_test_pred\u001b[0m\u001b[0;34m=\u001b[0m\u001b[0mself\u001b[0m\u001b[0;34m.\u001b[0m\u001b[0mmodelPredict\u001b[0m\u001b[0;34m(\u001b[0m\u001b[0mmodel\u001b[0m\u001b[0;34m,\u001b[0m\u001b[0mX_test\u001b[0m\u001b[0;34m)\u001b[0m\u001b[0;34m\u001b[0m\u001b[0;34m\u001b[0m\u001b[0m\n\u001b[0m\u001b[1;32m    145\u001b[0m \u001b[0;34m\u001b[0m\u001b[0m\n\u001b[1;32m    146\u001b[0m             \u001b[0mtrainAccs\u001b[0m\u001b[0;34m.\u001b[0m\u001b[0mappend\u001b[0m\u001b[0;34m(\u001b[0m\u001b[0mscore\u001b[0m\u001b[0;34m(\u001b[0m\u001b[0my_train\u001b[0m\u001b[0;34m,\u001b[0m\u001b[0my_train_pred\u001b[0m\u001b[0;34m)\u001b[0m\u001b[0;34m)\u001b[0m\u001b[0;34m\u001b[0m\u001b[0;34m\u001b[0m\u001b[0m\n",
      "\u001b[0;32m~/Documents/source/convergencer/models/base.py\u001b[0m in \u001b[0;36mmodelPredict\u001b[0;34m(self, model, X)\u001b[0m\n\u001b[1;32m    109\u001b[0m \u001b[0;34m\u001b[0m\u001b[0m\n\u001b[1;32m    110\u001b[0m     \u001b[0;32mdef\u001b[0m \u001b[0mmodelPredict\u001b[0m\u001b[0;34m(\u001b[0m\u001b[0mself\u001b[0m\u001b[0;34m,\u001b[0m\u001b[0mmodel\u001b[0m\u001b[0;34m,\u001b[0m\u001b[0mX\u001b[0m\u001b[0;34m)\u001b[0m\u001b[0;34m:\u001b[0m\u001b[0;34m\u001b[0m\u001b[0;34m\u001b[0m\u001b[0m\n\u001b[0;32m--> 111\u001b[0;31m         \u001b[0;32mreturn\u001b[0m \u001b[0mpd\u001b[0m\u001b[0;34m.\u001b[0m\u001b[0mSeries\u001b[0m\u001b[0;34m(\u001b[0m\u001b[0mmodel\u001b[0m\u001b[0;34m.\u001b[0m\u001b[0mpredict\u001b[0m\u001b[0;34m(\u001b[0m\u001b[0mX\u001b[0m\u001b[0;34m)\u001b[0m\u001b[0;34m)\u001b[0m\u001b[0;34m\u001b[0m\u001b[0;34m\u001b[0m\u001b[0m\n\u001b[0m\u001b[1;32m    112\u001b[0m \u001b[0;34m\u001b[0m\u001b[0m\n\u001b[1;32m    113\u001b[0m     \u001b[0;32mdef\u001b[0m \u001b[0mtrainModel\u001b[0m\u001b[0;34m(\u001b[0m\u001b[0mself\u001b[0m\u001b[0;34m,\u001b[0m\u001b[0mX\u001b[0m\u001b[0;34m,\u001b[0m\u001b[0my\u001b[0m\u001b[0;34m,\u001b[0m\u001b[0mparameters\u001b[0m\u001b[0;34m,\u001b[0m\u001b[0mmetric\u001b[0m\u001b[0;34m)\u001b[0m\u001b[0;34m:\u001b[0m\u001b[0;34m\u001b[0m\u001b[0;34m\u001b[0m\u001b[0m\n",
      "\u001b[0;32m~/Documents/source/convergencer/models/bagging.py\u001b[0m in \u001b[0;36mpredict\u001b[0;34m(self, X)\u001b[0m\n\u001b[1;32m     13\u001b[0m         \u001b[0mpredicts\u001b[0m\u001b[0;34m=\u001b[0m\u001b[0;34m[\u001b[0m\u001b[0;34m]\u001b[0m\u001b[0;34m\u001b[0m\u001b[0;34m\u001b[0m\u001b[0m\n\u001b[1;32m     14\u001b[0m         \u001b[0;32mfor\u001b[0m \u001b[0mmodel\u001b[0m \u001b[0;32min\u001b[0m \u001b[0mself\u001b[0m\u001b[0;34m.\u001b[0m\u001b[0mmodels\u001b[0m\u001b[0;34m:\u001b[0m\u001b[0;34m\u001b[0m\u001b[0;34m\u001b[0m\u001b[0m\n\u001b[0;32m---> 15\u001b[0;31m             \u001b[0mpredict\u001b[0m\u001b[0;34m=\u001b[0m\u001b[0mmodel\u001b[0m\u001b[0;34m.\u001b[0m\u001b[0minference\u001b[0m\u001b[0;34m(\u001b[0m\u001b[0mX\u001b[0m\u001b[0;34m)\u001b[0m\u001b[0;34m\u001b[0m\u001b[0;34m\u001b[0m\u001b[0m\n\u001b[0m\u001b[1;32m     16\u001b[0m             \u001b[0mpredicts\u001b[0m\u001b[0;34m.\u001b[0m\u001b[0mappend\u001b[0m\u001b[0;34m(\u001b[0m\u001b[0mpredict\u001b[0m\u001b[0;34m)\u001b[0m\u001b[0;34m\u001b[0m\u001b[0;34m\u001b[0m\u001b[0m\n\u001b[1;32m     17\u001b[0m         \u001b[0mpredicts\u001b[0m\u001b[0;34m=\u001b[0m\u001b[0mnp\u001b[0m\u001b[0;34m.\u001b[0m\u001b[0marray\u001b[0m\u001b[0;34m(\u001b[0m\u001b[0mpredicts\u001b[0m\u001b[0;34m)\u001b[0m\u001b[0;34m.\u001b[0m\u001b[0mT\u001b[0m\u001b[0;34m\u001b[0m\u001b[0;34m\u001b[0m\u001b[0m\n",
      "\u001b[0;32m~/Documents/source/convergencer/models/base.py\u001b[0m in \u001b[0;36minference\u001b[0;34m(self, X)\u001b[0m\n\u001b[1;32m    157\u001b[0m \u001b[0;34m\u001b[0m\u001b[0m\n\u001b[1;32m    158\u001b[0m     \u001b[0;32mdef\u001b[0m \u001b[0minference\u001b[0m\u001b[0;34m(\u001b[0m\u001b[0mself\u001b[0m\u001b[0;34m,\u001b[0m\u001b[0mX\u001b[0m\u001b[0;34m)\u001b[0m\u001b[0;34m:\u001b[0m\u001b[0;34m\u001b[0m\u001b[0;34m\u001b[0m\u001b[0m\n\u001b[0;32m--> 159\u001b[0;31m         \u001b[0mX\u001b[0m\u001b[0;34m=\u001b[0m\u001b[0mself\u001b[0m\u001b[0;34m.\u001b[0m\u001b[0mpreprocess\u001b[0m\u001b[0;34m(\u001b[0m\u001b[0mX\u001b[0m\u001b[0;34m)\u001b[0m\u001b[0;34m\u001b[0m\u001b[0;34m\u001b[0m\u001b[0m\n\u001b[0m\u001b[1;32m    160\u001b[0m         \u001b[0;32mreturn\u001b[0m \u001b[0mself\u001b[0m\u001b[0;34m.\u001b[0m\u001b[0mmodelPredict\u001b[0m\u001b[0;34m(\u001b[0m\u001b[0mself\u001b[0m\u001b[0;34m.\u001b[0m\u001b[0mmodel\u001b[0m\u001b[0;34m,\u001b[0m\u001b[0mX\u001b[0m\u001b[0;34m)\u001b[0m\u001b[0;34m\u001b[0m\u001b[0;34m\u001b[0m\u001b[0m\n\u001b[1;32m    161\u001b[0m \u001b[0;34m\u001b[0m\u001b[0m\n",
      "\u001b[0;32m~/Documents/source/convergencer/models/base.py\u001b[0m in \u001b[0;36mpreprocess\u001b[0;34m(self, X)\u001b[0m\n\u001b[1;32m     95\u001b[0m     \u001b[0;32mdef\u001b[0m \u001b[0mpreprocess\u001b[0m\u001b[0;34m(\u001b[0m\u001b[0mself\u001b[0m\u001b[0;34m,\u001b[0m\u001b[0mX\u001b[0m\u001b[0;34m)\u001b[0m\u001b[0;34m:\u001b[0m\u001b[0;34m\u001b[0m\u001b[0;34m\u001b[0m\u001b[0m\n\u001b[1;32m     96\u001b[0m         \u001b[0;32mfor\u001b[0m \u001b[0mp\u001b[0m \u001b[0;32min\u001b[0m \u001b[0mself\u001b[0m\u001b[0;34m.\u001b[0m\u001b[0mprocessors\u001b[0m\u001b[0;34m:\u001b[0m\u001b[0;34m\u001b[0m\u001b[0;34m\u001b[0m\u001b[0m\n\u001b[0;32m---> 97\u001b[0;31m             \u001b[0mX\u001b[0m\u001b[0;34m=\u001b[0m\u001b[0mp\u001b[0m\u001b[0;34m.\u001b[0m\u001b[0mtransform\u001b[0m\u001b[0;34m(\u001b[0m\u001b[0mX\u001b[0m\u001b[0;34m)\u001b[0m\u001b[0;34m\u001b[0m\u001b[0;34m\u001b[0m\u001b[0m\n\u001b[0m\u001b[1;32m     98\u001b[0m         \u001b[0;32mreturn\u001b[0m \u001b[0mX\u001b[0m\u001b[0;34m\u001b[0m\u001b[0;34m\u001b[0m\u001b[0m\n\u001b[1;32m     99\u001b[0m \u001b[0;34m\u001b[0m\u001b[0m\n",
      "\u001b[0;32m~/Documents/source/convergencer/processors/encoder.py\u001b[0m in \u001b[0;36mtransform\u001b[0;34m(self, data, y)\u001b[0m\n\u001b[1;32m    106\u001b[0m \u001b[0;34m\u001b[0m\u001b[0m\n\u001b[1;32m    107\u001b[0m     \u001b[0;32mdef\u001b[0m \u001b[0mtransform\u001b[0m\u001b[0;34m(\u001b[0m\u001b[0mself\u001b[0m\u001b[0;34m,\u001b[0m \u001b[0mdata\u001b[0m\u001b[0;34m,\u001b[0m \u001b[0my\u001b[0m\u001b[0;34m=\u001b[0m\u001b[0;32mNone\u001b[0m\u001b[0;34m)\u001b[0m\u001b[0;34m:\u001b[0m\u001b[0;34m\u001b[0m\u001b[0;34m\u001b[0m\u001b[0m\n\u001b[0;32m--> 108\u001b[0;31m         \u001b[0mdata\u001b[0m\u001b[0;34m=\u001b[0m\u001b[0mself\u001b[0m\u001b[0;34m.\u001b[0m\u001b[0mintEncoder\u001b[0m\u001b[0;34m.\u001b[0m\u001b[0mtransform\u001b[0m\u001b[0;34m(\u001b[0m\u001b[0mdata\u001b[0m\u001b[0;34m)\u001b[0m\u001b[0;34m\u001b[0m\u001b[0;34m\u001b[0m\u001b[0m\n\u001b[0m\u001b[1;32m    109\u001b[0m         \u001b[0;32mif\u001b[0m \u001b[0my\u001b[0m \u001b[0;32mis\u001b[0m \u001b[0;32mNone\u001b[0m\u001b[0;34m:\u001b[0m\u001b[0;34m\u001b[0m\u001b[0;34m\u001b[0m\u001b[0m\n\u001b[1;32m    110\u001b[0m             \u001b[0;32mreturn\u001b[0m \u001b[0mdata\u001b[0m\u001b[0;34m\u001b[0m\u001b[0;34m\u001b[0m\u001b[0m\n",
      "\u001b[0;32m~/Documents/source/convergencer/processors/encoder.py\u001b[0m in \u001b[0;36mtransform\u001b[0;34m(self, data, y)\u001b[0m\n\u001b[1;32m     25\u001b[0m             \u001b[0muniques\u001b[0m\u001b[0;34m=\u001b[0m\u001b[0mnp\u001b[0m\u001b[0;34m.\u001b[0m\u001b[0munique\u001b[0m\u001b[0;34m(\u001b[0m\u001b[0mdata\u001b[0m\u001b[0;34m[\u001b[0m\u001b[0mcol\u001b[0m\u001b[0;34m]\u001b[0m\u001b[0;34m)\u001b[0m\u001b[0;34m\u001b[0m\u001b[0;34m\u001b[0m\u001b[0m\n\u001b[1;32m     26\u001b[0m             \u001b[0;32mfor\u001b[0m \u001b[0muni\u001b[0m \u001b[0;32min\u001b[0m \u001b[0muniques\u001b[0m\u001b[0;34m:\u001b[0m\u001b[0;34m\u001b[0m\u001b[0;34m\u001b[0m\u001b[0m\n\u001b[0;32m---> 27\u001b[0;31m                 \u001b[0mdata\u001b[0m\u001b[0;34m[\u001b[0m\u001b[0mcol\u001b[0m\u001b[0;34m]\u001b[0m\u001b[0;34m=\u001b[0m\u001b[0mnp\u001b[0m\u001b[0;34m.\u001b[0m\u001b[0mwhere\u001b[0m\u001b[0;34m(\u001b[0m\u001b[0mdata\u001b[0m\u001b[0;34m[\u001b[0m\u001b[0mcol\u001b[0m\u001b[0;34m]\u001b[0m\u001b[0;34m==\u001b[0m\u001b[0muni\u001b[0m\u001b[0;34m,\u001b[0m\u001b[0mnp\u001b[0m\u001b[0;34m.\u001b[0m\u001b[0margwhere\u001b[0m\u001b[0;34m(\u001b[0m\u001b[0mself\u001b[0m\u001b[0;34m.\u001b[0m\u001b[0muniques\u001b[0m\u001b[0;34m[\u001b[0m\u001b[0mcol\u001b[0m\u001b[0;34m]\u001b[0m\u001b[0;34m==\u001b[0m\u001b[0muni\u001b[0m\u001b[0;34m)\u001b[0m\u001b[0;34m[\u001b[0m\u001b[0;36m0\u001b[0m\u001b[0;34m]\u001b[0m\u001b[0;34m,\u001b[0m\u001b[0mdata\u001b[0m\u001b[0;34m[\u001b[0m\u001b[0mcol\u001b[0m\u001b[0;34m]\u001b[0m\u001b[0;34m)\u001b[0m\u001b[0;34m\u001b[0m\u001b[0;34m\u001b[0m\u001b[0m\n\u001b[0m\u001b[1;32m     28\u001b[0m             \u001b[0mdata\u001b[0m\u001b[0;34m[\u001b[0m\u001b[0mcol\u001b[0m\u001b[0;34m]\u001b[0m\u001b[0;34m=\u001b[0m\u001b[0mdata\u001b[0m\u001b[0;34m[\u001b[0m\u001b[0mcol\u001b[0m\u001b[0;34m]\u001b[0m\u001b[0;34m.\u001b[0m\u001b[0mastype\u001b[0m\u001b[0;34m(\u001b[0m\u001b[0mint\u001b[0m\u001b[0;34m)\u001b[0m\u001b[0;34m\u001b[0m\u001b[0;34m\u001b[0m\u001b[0m\n\u001b[1;32m     29\u001b[0m         \u001b[0;32mif\u001b[0m \u001b[0mself\u001b[0m\u001b[0;34m.\u001b[0m\u001b[0mverbose\u001b[0m\u001b[0;34m==\u001b[0m\u001b[0;36m1\u001b[0m\u001b[0;34m:\u001b[0m\u001b[0;34m\u001b[0m\u001b[0;34m\u001b[0m\u001b[0m\n",
      "\u001b[0;32m<__array_function__ internals>\u001b[0m in \u001b[0;36mwhere\u001b[0;34m(*args, **kwargs)\u001b[0m\n",
      "\u001b[0;31mKeyboardInterrupt\u001b[0m: "
     ]
    }
   ],
   "metadata": {}
  }
 ],
 "metadata": {
  "orig_nbformat": 4,
  "language_info": {
   "name": "python",
   "version": "3.8.3",
   "mimetype": "text/x-python",
   "codemirror_mode": {
    "name": "ipython",
    "version": 3
   },
   "pygments_lexer": "ipython3",
   "nbconvert_exporter": "python",
   "file_extension": ".py"
  },
  "kernelspec": {
   "name": "python3",
   "display_name": "Python 3.8.3 64-bit ('base': conda)"
  },
  "interpreter": {
   "hash": "ec6d9dafd5cbf44a7deb0ee208de5a8e6bc375a34e5c6f7aad6a434b6e159539"
  }
 },
 "nbformat": 4,
 "nbformat_minor": 2
}